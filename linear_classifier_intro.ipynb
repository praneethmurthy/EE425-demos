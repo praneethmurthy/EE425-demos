{
 "cells": [
  {
   "cell_type": "markdown",
   "metadata": {},
   "source": [
    "## Linear Classifiers -- understanding difference b/w generative and discriminative learning "
   ]
  },
  {
   "cell_type": "code",
   "execution_count": 1,
   "metadata": {},
   "outputs": [],
   "source": [
    "import numpy as np\n",
    "import matplotlib.pyplot as plt"
   ]
  },
  {
   "cell_type": "markdown",
   "metadata": {},
   "source": [
    "### Logistic regression -- A Discriminative Algorithm"
   ]
  },
  {
   "cell_type": "code",
   "execution_count": 2,
   "metadata": {},
   "outputs": [],
   "source": [
    "def generate_data_classification(m = 50, n=2, phi=0.5):\n",
    "    \"\"\"\n",
    "    Inputs\n",
    "        m : number of samples\n",
    "        n : number of features (setting to 2 by default for visualization)\n",
    "        phi: \"fraction of samples that are from class 0\" -- also known as class priors\n",
    "        \n",
    "    Outputs\n",
    "        X : matrix of features (m x n)\n",
    "        y : class labels (m x 1) where each entry is either 0 or 1 \n",
    "    \"\"\"\n",
    "\n",
    "    #generate the mean vectors and the covariance matrix\n",
    "    mu_0 = 1 * np.ones((n,1)) #lot of separation between the means, then the data will be \"separable\"\n",
    "    mu_1 = -1 * np.ones((n,1))\n",
    "    sigma = 3 * np.eye(n)\n",
    "    #sigma = np.random.randn()\n",
    "    #sigma = np.diag([1,2])\n",
    "\n",
    "    #first generate class labels\n",
    "    bern_idx = np.random.rand(m, 1) #samples from unifrom random distribution (it is between 0,1)\n",
    "    y = 1 * (bern_idx >= phi) #this is a vector of size m, each entry is 0,1\n",
    "    \n",
    "    #now generate X\n",
    "    X = np.zeros((m, n))\n",
    "    for ii in range(m):\n",
    "        if (y[ii] == 0):\n",
    "            xtmp = np.sqrt(sigma) @ np.random.randn(n, 1) + mu_0\n",
    "                \n",
    "        else:\n",
    "            xtmp = np.sqrt(sigma) @ np.random.randn(n,1) + mu_1\n",
    "        \n",
    "        X[ii:ii + 1, :] = xtmp.T\n",
    "    return X, y"
   ]
  },
  {
   "cell_type": "markdown",
   "metadata": {},
   "source": [
    "generate training data"
   ]
  },
  {
   "cell_type": "code",
   "execution_count": 3,
   "metadata": {},
   "outputs": [
    {
     "name": "stdout",
     "output_type": "stream",
     "text": [
      "(100, 2) (100, 1)\n"
     ]
    }
   ],
   "source": [
    "m_train = 100\n",
    "n = 2\n",
    "phi = 0.5\n",
    "X_train,  y_train = generate_data_classification(m_train, n, phi)\n",
    "print(X_train.shape, y_train.shape)"
   ]
  },
  {
   "cell_type": "markdown",
   "metadata": {},
   "source": [
    "generate test data -- same \"parameters\", but new values! "
   ]
  },
  {
   "cell_type": "code",
   "execution_count": 4,
   "metadata": {},
   "outputs": [
    {
     "name": "stdout",
     "output_type": "stream",
     "text": [
      "(50, 2) (50, 1)\n"
     ]
    }
   ],
   "source": [
    "m_test = 50\n",
    "n = 2\n",
    "phi = 0.5 \n",
    "X_test,  y_test = generate_data_classification(m_test, n, phi)\n",
    "print(X_test.shape, y_test.shape)"
   ]
  },
  {
   "cell_type": "markdown",
   "metadata": {},
   "source": [
    "let us visualize the data"
   ]
  },
  {
   "cell_type": "code",
   "execution_count": 5,
   "metadata": {},
   "outputs": [
    {
     "data": {
      "image/png": "[encoded data removed]",
      "text/plain": [
       "<Figure size 432x432 with 1 Axes>"
      ]
     },
     "metadata": {
      "needs_background": "light"
     },
     "output_type": "display_data"
    }
   ],
   "source": [
    "X_zero_train = np.array([np.array(X_train[ii,:]) for ii in range(m_train) if y_train[ii] == 0])\n",
    "X_one_train = np.array([np.array(X_train[ii,:]) for ii in range(m_train) if y_train[ii] == 1])\n",
    "\n",
    "X_zero_test = np.array([np.array(X_test[ii,:]) for ii in range(m_test) if y_test[ii] == 0])\n",
    "X_one_test = np.array([np.array(X_test[ii,:]) for ii in range(m_test) if y_test[ii] == 1])\n",
    "\n",
    "\n",
    "plt.figure(figsize=(6,6))\n",
    "plt.scatter(X_zero_train[:,0], X_zero_train[:, 1], color='red', marker='v')\n",
    "plt.scatter(X_one_train[:,0], X_one_train[:, 1], color='blue', marker='v')\n",
    "\n",
    "plt.scatter(X_zero_test[:,0], X_zero_test[:, 1], color='green', marker='*')\n",
    "plt.scatter(X_one_test[:,0], X_one_test[:, 1], color='orange', marker='*')\n",
    "\n",
    "\n",
    "plt.show()"
   ]
  },
  {
   "cell_type": "markdown",
   "metadata": {},
   "source": [
    "#### Training the Logistic Regression model -- same as before, use gradient descent"
   ]
  },
  {
   "cell_type": "code",
   "execution_count": 6,
   "metadata": {},
   "outputs": [],
   "source": [
    "#same functions as in previous sessions\n",
    "def sigmoid(z):\n",
    "    return 1/(1 + np.exp(-z))\n",
    "\n",
    "\n",
    "def neg_log_cost(theta, X, y): #referred to as cross entropy loss\n",
    "    \"\"\"\n",
    "    X is feature matrix\n",
    "    y is class label\n",
    "    theta is \"hyperplane\"\n",
    "    \"\"\"\n",
    "    \n",
    "    cost_eval = 0\n",
    "    m, n = X.shape\n",
    "    for ii in range(m):\n",
    "        xtmp = X[ii:ii+1, :]\n",
    "        #print(theta.shape)\n",
    "        htheta_xtmp = sigmoid(np.squeeze(xtmp).dot(np.squeeze(theta))) #h_{theta}(x)\n",
    "        #print(htheta_xtmp.shape)\n",
    "        cost_eval -= y[ii] * np.log(htheta_xtmp + np.finfo(float).eps) + (1 - y[ii]) * np.log(1 - htheta_xtmp + np.finfo(float).eps)\n",
    "    #print(cost_eval)\n",
    "    return 1/m * cost_eval \n",
    "\n",
    "\n",
    "#log - logistic regression\n",
    "def gradient_descent_log(X, y, theta_init, max_iter=1000, step_size = 1e-2):\n",
    "    theta_list = [theta_init]\n",
    "    m, n = X.shape\n",
    "    for _ in range(max_iter):\n",
    "        grad = 0\n",
    "        for ii in range(m):\n",
    "            xtmp = X[ii:ii+1, :]\n",
    "            htheta_xtmp = sigmoid(np.squeeze(xtmp).dot(np.squeeze(theta_init)))\n",
    "            grad -= (y[ii] - htheta_xtmp) * xtmp.T\n",
    "            \n",
    "        theta_new  = theta_init - step_size * grad / m\n",
    "        theta_init = theta_new\n",
    "        #theta -= step_size * grad / m\n",
    "        theta_list.append(theta_new) \n",
    "        \n",
    "    return np.squeeze(np.array(theta_list))\n",
    "\n",
    "def cost_vals(X, y, theta_list):\n",
    "    max_iter = theta_list.shape[0]\n",
    "    err = []\n",
    "    for ii in range(max_iter):\n",
    "        err_tmp = neg_log_cost(theta_list[ii], X, y)\n",
    "        err.append(err_tmp)\n",
    "    return err"
   ]
  },
  {
   "cell_type": "code",
   "execution_count": 7,
   "metadata": {},
   "outputs": [
    {
     "data": {
      "image/png": "[encoded data removed]",
      "text/plain": [
       "<Figure size 432x288 with 1 Axes>"
      ]
     },
     "metadata": {
      "needs_background": "light"
     },
     "output_type": "display_data"
    }
   ],
   "source": [
    "##initialize \"hyper-parameters\" and learn \"theta\"\n",
    "max_iter = 500\n",
    "step_size = 1e-2\n",
    "\n",
    "theta_list = gradient_descent_log(X_train, y_train, np.random.randn(n,1), max_iter, step_size)\n",
    "\n",
    "# visualize cost decay to see if everything is good\n",
    "cost_decay = cost_vals(X_train, y_train, theta_list)\n",
    "\n",
    "plt.plot(cost_decay, 'r')\n",
    "plt.yscale(\"log\")\n",
    "plt.xlabel('iterations')\n",
    "plt.ylabel('cost function')\n",
    "plt.show()"
   ]
  },
  {
   "cell_type": "markdown",
   "metadata": {},
   "source": [
    "#### Testing the Logistic Regression model"
   ]
  },
  {
   "cell_type": "code",
   "execution_count": 8,
   "metadata": {
    "scrolled": true
   },
   "outputs": [
    {
     "name": "stdout",
     "output_type": "stream",
     "text": [
      "Test Accuracy for Logistic Regression =  0.78 \n",
      "\n",
      "Train Accuracy for Logistic Regression =  0.82\n"
     ]
    }
   ],
   "source": [
    "#first we need a function to evaluate accuracy\n",
    "\n",
    "def acc_eval_lr(X, y, theta):\n",
    "    \"\"\"\n",
    "    Inputs:\n",
    "        X -- this is test data features\n",
    "        y -- this is test data labels\n",
    "        theta -- this is an estimate from learning phase\n",
    "        \n",
    "    Output: \n",
    "        acc: accuracy over this dataset -- between 0 and 1 \n",
    "    \n",
    "    \"\"\"\n",
    "    \n",
    "    \n",
    "    m_test, n_test = X.shape \n",
    "    \n",
    "    #writing using for loops for clarity -- can you eliminate this loop ? \n",
    "    yhat = np.zeros_like(y)\n",
    "    \n",
    "    for ii in range(m_test):\n",
    "        xtmp = X[ii:ii+1, :]\n",
    "        htheta_xtmp = sigmoid(np.squeeze(xtmp).dot(np.squeeze(theta)))\n",
    "        if(htheta_xtmp >= 1 - htheta_xtmp):\n",
    "            yhat[ii] = 1\n",
    "        else:\n",
    "            yhat[ii] = 0\n",
    "    \n",
    "    correct_idx = [1 for ii in range(m_test) if yhat[ii] == y[ii]] ##list comprehension again\n",
    "    num_correct = sum(correct_idx)\n",
    "    \n",
    "    acc = num_correct/m_test\n",
    "    return acc\n",
    "    \n",
    "    \n",
    "            \n",
    "test_acc = acc_eval_lr(X_test, y_test, theta_list[-1])\n",
    "train_acc = acc_eval_lr(X_train, y_train, theta_list[-1])\n",
    "print(\"Test Accuracy for Logistic Regression = \", test_acc, '\\n')\n",
    "print(\"Train Accuracy for Logistic Regression = \", train_acc)"
   ]
  },
  {
   "cell_type": "markdown",
   "metadata": {},
   "source": [
    "great, our algorithm seems to work!! Let us look at GDA "
   ]
  },
  {
   "cell_type": "markdown",
   "metadata": {},
   "source": [
    "### Gaussian Discriminant Analysis -- A Generative Algorithm (learning paradigm)"
   ]
  },
  {
   "cell_type": "markdown",
   "metadata": {},
   "source": [
    "generative learning requires statistical estimation methods whereas discriminative learning require optimization based methods"
   ]
  },
  {
   "cell_type": "markdown",
   "metadata": {},
   "source": [
    "#### Training GDA  -- need to estimate _all_ the parameters! "
   ]
  },
  {
   "cell_type": "code",
   "execution_count": 9,
   "metadata": {},
   "outputs": [
    {
     "name": "stdout",
     "output_type": "stream",
     "text": [
      "phi_hat =  \n",
      " 0.51 \n",
      "\n",
      "\n",
      "\n",
      "mu_0_hat =  \n",
      " [1.17130267 0.80663801] \n",
      "\n",
      "\n",
      "\n",
      "mu_1_hat =  \n",
      " [-1.10280601 -0.52004195] \n",
      "\n",
      "\n",
      "\n",
      "sigma_hat =  \n",
      " [[2.98826887 0.        ]\n",
      " [0.         2.94078476]]\n"
     ]
    }
   ],
   "source": [
    "def train_GDA(X, y):\n",
    "    \"\"\"\n",
    "    Inputs: \n",
    "        X -- training data features\n",
    "        y - training data labels\n",
    "        \n",
    "    Outputs:\n",
    "        phi - prior on class label distribution\n",
    "        mu_0 - mean of class 0\n",
    "        mu_1 - mean of class 1\n",
    "        Sigma - a diagonal covariance matrix shared across the classes\n",
    "    \"\"\"\n",
    "    m_train, n_train = X.shape #computing the number of features, and samples \n",
    "    \n",
    "    #first we estimate the priors, phi\n",
    "    #we assumed that y was a bernoulli r.v. with parameter (probability of \"success\" being phi) \n",
    "    idx_label_0 = [1 for ii in range(m_train) if y[ii] == 0]\n",
    "    phi = sum(idx_label_0)/m_train #empirical average from data -- approximation to nature's phi!\n",
    "    \n",
    "    \n",
    "    #next we estimate the means\n",
    "    X_zero = np.array([np.array(X[ii,:]) for ii in range(m_train) if y[ii] == 0])\n",
    "    X_one = np.array([np.array(X[ii,:]) for ii in range(m_train) if y[ii] == 1])\n",
    "    \n",
    "    mu_0 = np.mean(X_zero, axis=0) ##be clear about which axis you are taking mean over\n",
    "    mu_1 = np.mean(X_one, axis=0) \n",
    "    \n",
    "    #next we estimate the diagonal covariance\n",
    "    ##covariance is diagonal!\n",
    "    sigma = np.zeros((n_train, n_train))\n",
    "    for ii in range(m_train):\n",
    "        xtmp = np.squeeze(X[ii:ii+1, :])\n",
    "        for jj in range(n_train):\n",
    "            if(y[ii] == 0):\n",
    "                mean_tmp = mu_0\n",
    "            else:\n",
    "                mean_tmp = mu_1\n",
    "            sigma[jj, jj] += (xtmp[jj] - mean_tmp[jj]) ** 2\n",
    "    sigma = sigma / m_train\n",
    "    return phi, mu_0, mu_1, sigma\n",
    "    \n",
    "    \n",
    "\n",
    "phi_hat, mu_0_hat, mu_1_hat, sigma_hat = train_GDA(X_train, y_train)\n",
    "\n",
    "print('phi_hat =  \\n', phi_hat, '\\n\\n\\n')\n",
    "\n",
    "print('mu_0_hat =  \\n', mu_0_hat, '\\n\\n\\n')\n",
    "\n",
    "print('mu_1_hat =  \\n', mu_1_hat, '\\n\\n\\n')\n",
    "\n",
    "print('sigma_hat =  \\n', sigma_hat)\n"
   ]
  },
  {
   "cell_type": "markdown",
   "metadata": {},
   "source": [
    "Okay, we have learnt all the parameters for GDA. let us validate our model! "
   ]
  },
  {
   "cell_type": "code",
   "execution_count": 10,
   "metadata": {},
   "outputs": [
    {
     "name": "stdout",
     "output_type": "stream",
     "text": [
      "Test Accuracy for GDA =  0.76\n"
     ]
    }
   ],
   "source": [
    "#let us write a function to estimate the guassian pdf value ##norm pdf\n",
    "def gaussian_value(x, mu, sigma):\n",
    "    n,  = x.shape\n",
    "    n = float(n)\n",
    "    norm_factor = ((2 * np.pi) ** (n/2)) * ((np.linalg.det(sigma)) ** 0.5)\n",
    "    exp_val = -0.5 * (x - mu).T @ np.linalg.inv(sigma) @ (x-mu)\n",
    "    return (1 / norm_factor) * np.exp(exp_val)\n",
    "    \n",
    "\n",
    "def acc_eval_gda(X, y, phi, mu_0, mu_1, sigma):\n",
    "    \"\"\"\n",
    "    Inputs:\n",
    "        X -- this is test data features\n",
    "        y -- this is test data labels\n",
    "    parameters:\n",
    "        phi - estimate of class priors\n",
    "        mu_0,mu_1 - estimate of means of two classes\n",
    "        sigma - estimate of shared covariance \n",
    "        \n",
    "    Output: \n",
    "        acc: accuracy over this dataset\n",
    "    \n",
    "    \"\"\"\n",
    "    \n",
    "    \n",
    "    m_test, n_test = X.shape \n",
    "    \n",
    "    #writing using for loops for clarity -- can you eliminate this loop ? \n",
    "    yhat = np.zeros_like(y)\n",
    "    for ii in range(m_test):\n",
    "        xtmp = np.squeeze(X[ii:ii+1, :])\n",
    "        val0 = gaussian_value(xtmp, mu_0, sigma) * (1-phi)\n",
    "        val1 = gaussian_value(xtmp, mu_1, sigma) * (phi)\n",
    "        yhat[ii] = 0 if (val0 >= val1) else 1   #not a great or readable way to write code\n",
    "    \n",
    "    correct_idx = [1 for ii in range(m_test) if yhat[ii] == y[ii]]\n",
    "    num_correct = sum(correct_idx)\n",
    "    acc = num_correct/m_test\n",
    "    return acc\n",
    "\n",
    "\n",
    "test_acc = acc_eval_gda(X_test, y_test, phi_hat, mu_0_hat, mu_1_hat, sigma_hat)\n",
    "print(\"Test Accuracy for GDA = \", test_acc)"
   ]
  },
  {
   "cell_type": "markdown",
   "metadata": {},
   "source": [
    "Why is this a linear classifier??"
   ]
  },
  {
   "cell_type": "code",
   "execution_count": 11,
   "metadata": {},
   "outputs": [
    {
     "data": {
      "image/png": "[encoded data removed]",
      "text/plain": [
       "<Figure size 432x432 with 1 Axes>"
      ]
     },
     "metadata": {
      "needs_background": "light"
     },
     "output_type": "display_data"
    }
   ],
   "source": [
    "X_zero = np.array([np.array(X_train[ii,:]) for ii in range(m_train) if y_train[ii] == 0])\n",
    "X_one = np.array([np.array(X_train[ii,:]) for ii in range(m_train) if y_train[ii] == 1])\n",
    "    \n",
    "final_theta = theta_list[-1]\n",
    "\n",
    "plt.figure(figsize=(6,6))\n",
    "plt.scatter(X_zero[:,0], X_zero[:, 1], color='red', marker='v')\n",
    "plt.scatter(X_one[:,0], X_one[:, 1], color='blue', marker='*')\n",
    "ax  = plt.gca()\n",
    "ax.autoscale(False)\n",
    "classifier_theta0 = np.array(ax.get_xlim())\n",
    "classifier_theta1 = -(classifier_theta0 * final_theta[0])/final_theta[1]\n",
    "plt.plot(classifier_theta0, classifier_theta1, '-', c=\"green\")\n",
    "\n",
    "\n",
    "\n",
    "w_gda = np.linalg.inv(sigma_hat) @ (mu_0_hat - mu_1_hat)\n",
    "\n",
    "gda_theta0 = np.array(ax.get_xlim())\n",
    "gda_theta1 = -(gda_theta0 * w_gda[0])/w_gda[1]\n",
    "plt.plot(gda_theta0, gda_theta1, '-', c=\"orange\")\n",
    "\n",
    "plt.show()\n"
   ]
  }
 ],
 "metadata": {
  "kernelspec": {
   "display_name": "Python 3",
   "language": "python",
   "name": "python3"
  },
  "language_info": {
   "codemirror_mode": {
    "name": "ipython",
    "version": 3
   },
   "file_extension": ".py",
   "mimetype": "text/x-python",
   "name": "python",
   "nbconvert_exporter": "python",
   "pygments_lexer": "ipython3",
   "version": "3.6.9"
  }
 },
 "nbformat": 4,
 "nbformat_minor": 2
}
