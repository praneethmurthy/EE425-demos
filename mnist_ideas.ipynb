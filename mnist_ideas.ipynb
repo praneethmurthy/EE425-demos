{
 "cells": [
  {
   "cell_type": "code",
   "execution_count": 63,
   "metadata": {},
   "outputs": [],
   "source": [
    "import matplotlib.pyplot as plt\n",
    "import numpy as np\n",
    "import scipy\n",
    "from scipy import signal"
   ]
  },
  {
   "cell_type": "code",
   "execution_count": 65,
   "metadata": {},
   "outputs": [
    {
     "name": "stdout",
     "output_type": "stream",
     "text": [
      "<class 'list'>\n"
     ]
    }
   ],
   "source": [
    "from mnist import MNIST # pip install python-mnist\n",
    "mndata = MNIST('MNIST_ORG')\n",
    "image_list, label_list = mndata.load_training()\n",
    "print(type(image_list))"
   ]
  },
  {
   "cell_type": "code",
   "execution_count": 66,
   "metadata": {},
   "outputs": [],
   "source": [
    "images = np.array(image_list)\n",
    "labels = np.array(label_list)"
   ]
  },
  {
   "cell_type": "code",
   "execution_count": 116,
   "metadata": {},
   "outputs": [
    {
     "name": "stdout",
     "output_type": "stream",
     "text": [
      "(60000, 784) (60000,)\n",
      "(784,)\n",
      "(784, 11872) (11872,)\n"
     ]
    }
   ],
   "source": [
    "print(images.shape, labels.shape)\n",
    "\n",
    "temp = images[0, :]\n",
    "print(temp.shape) #can also reduce m by randomly picking 50% of the data\n",
    "\n",
    "extracted_idx = [ii for ii in range(len(labels)) if(labels[ii]==0 or labels[ii] == 9)]\n",
    "#extracted_labels = [labels[ii] for ii in range(len(labels)) if(labels[ii]==0 or labels[ii] == 9)]\n",
    "\n",
    "X_train = images[extracted_idx, :]\n",
    "Y_train = labels[extracted_idx]\n",
    "\n",
    "X_train = np.transpose(X_train)\n",
    "\n",
    "print(X_train.shape, Y_train.shape)"
   ]
  },
  {
   "cell_type": "code",
   "execution_count": 69,
   "metadata": {},
   "outputs": [
    {
     "data": {
      "image/png": "[encoded data removed]",
      "text/plain": [
       "<Figure size 432x288 with 6 Axes>"
      ]
     },
     "metadata": {},
     "output_type": "display_data"
    }
   ],
   "source": [
    "fig = plt.figure()\n",
    "for i in range(6):\n",
    "    val = np.random.randint(len(labels))\n",
    "    plt.subplot(2,3,i+1)\n",
    "    tmp = images[val, :]\n",
    "    plt.tight_layout()\n",
    "    plt.imshow(np.reshape(tmp, [28, 28]), cmap='gray', interpolation='none')\n",
    "    plt.title(\"Ground Truth: {}\".format(labels[val]))\n",
    "    plt.xticks([])\n",
    "    plt.yticks([])\n"
   ]
  },
  {
   "cell_type": "code",
   "execution_count": 107,
   "metadata": {},
   "outputs": [
    {
     "name": "stdout",
     "output_type": "stream",
     "text": [
      "(14, 14)\n"
     ]
    },
    {
     "data": {
      "text/plain": [
       "<matplotlib.image.AxesImage at 0x7f78b589f898>"
      ]
     },
     "execution_count": 107,
     "metadata": {},
     "output_type": "execute_result"
    },
    {
     "data": {
      "image/png": "[encoded data removed]",
      "text/plain": [
       "<Figure size 432x288 with 1 Axes>"
      ]
     },
     "metadata": {
      "needs_background": "light"
     },
     "output_type": "display_data"
    }
   ],
   "source": [
    "im = images[10,:]\n",
    "im1 = np.reshape(im, [28,28]) #we are reducing n\n",
    "#tmp1 = ([im[ii] for ii in range(len(im)) if ii % 4 ==0])\n",
    "tmp1 = im1[0::2, 0::2]\n",
    "print(tmp1.shape)\n",
    "#tmp1 = signal.resample(im, 14 * 14, domain='time')\n",
    "#tmp1 = np.reshape(tmp1, [14,14])\n",
    "plt.imshow(tmp1, cmap='gray')\n",
    "#plt.imshow(np.reshape(im, [28,28]), cmap='gray', interpolation='none')"
   ]
  }
 ],
 "metadata": {
  "kernelspec": {
   "display_name": "Python 3",
   "language": "python",
   "name": "python3"
  },
  "language_info": {
   "codemirror_mode": {
    "name": "ipython",
    "version": 3
   },
   "file_extension": ".py",
   "mimetype": "text/x-python",
   "name": "python",
   "nbconvert_exporter": "python",
   "pygments_lexer": "ipython3",
   "version": "3.6.9"
  }
 },
 "nbformat": 4,
 "nbformat_minor": 2
}
