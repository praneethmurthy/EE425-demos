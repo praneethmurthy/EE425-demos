{
 "cells": [
  {
   "cell_type": "markdown",
   "metadata": {},
   "source": [
    "## hw5: pca before classification -- some \"insights\""
   ]
  },
  {
   "cell_type": "markdown",
   "metadata": {},
   "source": [
    "### how to ensure class separation? there IS a simple way to simulate this (but not always recommended)"
   ]
  },
  {
   "cell_type": "markdown",
   "metadata": {},
   "source": [
    "- the idea is that the eigenvectors of an invertible matrix is the same as the eigenvectors of its inverse\n",
    "\n",
    "- Let $A$ be an invertible matrix and let $x$, $\\lambda$  denote one set of eigenvalue and its associated eigenvector respectively. Then, we know that \n",
    "\n",
    "\\begin{align*}\n",
    "Ax = \\lambda x \\implies x  = \\lambda A^{-1} x \\implies \\frac{1}{\\lambda} x = A^{-1} x\n",
    "\\end{align*}\n",
    "\n",
    "Thus, the eigenvalues get \"inverted\" but the eigenvectors remain the same! \n",
    "\n",
    "Next show that if $x_1$, $x_2$ are two eigenvectors of an invertible matrix, $A$, $x_1^\\top A^{-1} x_2 = 0$. \n",
    "\\begin{align*}\n",
    "x_1^T A x_2 = x_1^T(A x_2) = x_1^T (\\lambda_2 x_2) = \\lambda_2 x_1^T x_2 = 0\n",
    "\\end{align*}\n",
    "\n",
    "then show how the separation can be made large! \n",
    "\\begin{align*}\n",
    "(\\mu_0  - \\mu_1)^T \\Sigma^{-1} (\\mu_0 - \\mu_1) = \\mu_0^T \\Sigma^{-1} \\mu_0 + \\mu_1^T \\Sigma^{-1} \\mu_1 - 2(\\mu_0^T\\Sigma^{-1}\\mu_1) = \\frac{1}{\\lambda_{1}} + \\frac{1}{\\lambda_{2}}\n",
    "\\end{align*}\n"
   ]
  },
  {
   "cell_type": "markdown",
   "metadata": {},
   "source": [
    "## verification through simulation"
   ]
  },
  {
   "cell_type": "code",
   "execution_count": 37,
   "metadata": {},
   "outputs": [
    {
     "name": "stdout",
     "output_type": "stream",
     "text": [
      "20.359363839475407\n"
     ]
    }
   ],
   "source": [
    "import numpy as np\n",
    "import matplotlib.pyplot as plt \n",
    "\n",
    "#generate an invertible covariance matrix\n",
    "n = 2\n",
    "tmp1 = np.random.randn(n, n) #similar to the homework 5\n",
    "evals = np.sqrt(np.diag((1, 1)))\n",
    "\n",
    "sigma = tmp1 @ evals @ tmp1.T\n",
    "\n",
    "\n",
    "#let mu0 and mu1 be the \"scaled eigenvectors\" of sigma\n",
    "[u, s, v] = np.linalg.svd(sigma) #evd is same as svd for symmetric positive semi-def matrices\n",
    "mu0 = 5 * u[:, 0]\n",
    "mu1 = 5 * u[:, 1]\n",
    "\n",
    "sep = (mu0.T - mu1.T) @ np.linalg.inv(sigma) @ (mu0 - mu1)\n",
    "\n",
    "\n",
    "print(sep)"
   ]
  },
  {
   "cell_type": "code",
   "execution_count": 38,
   "metadata": {},
   "outputs": [
    {
     "data": {
      "image/png": "[encoded data removed]",
      "text/plain": [
       "<Figure size 432x432 with 1 Axes>"
      ]
     },
     "metadata": {
      "needs_background": "light"
     },
     "output_type": "display_data"
    }
   ],
   "source": [
    "m = 50\n",
    "phi = 0.5 #fraction of points in class 1\n",
    "\n",
    "#generate class labels\n",
    "bern_idx = np.random.rand(m, 1) #samples from unifrom random distribution (it is between 0,1)\n",
    "y = 1 * (bern_idx >= phi) #this is a vector of size m, each entry is 0,1\n",
    "\n",
    "#now generate X\n",
    "X = np.zeros((m, n))\n",
    "for ii in range(m):\n",
    "    if (y[ii] == 0):\n",
    "        xtmp = sigma @ np.random.randn(n, 1) + np.expand_dims(mu0, axis=1)\n",
    "    else:\n",
    "        xtmp = sigma @ np.random.randn(n,1) + np.expand_dims(mu1, axis=1)\n",
    "        \n",
    "    X[ii:ii + 1, :] = xtmp.T\n",
    "    \n",
    "    \n",
    "X_zero = np.array([np.array(X[ii,:]) for ii in range(m) if y[ii] == 0])\n",
    "X_one = np.array([np.array(X[ii,:]) for ii in range(m) if y[ii] == 1])\n",
    "\n",
    "plt.figure(figsize=(6,6))\n",
    "plt.scatter(X_zero[:,0], X_zero[:, 1], color='red', marker='v')\n",
    "plt.scatter(X_one[:,0], X_one[:, 1], color='blue', marker='*')\n",
    "plt.show()"
   ]
  },
  {
   "cell_type": "markdown",
   "metadata": {},
   "source": [
    "## clustering"
   ]
  },
  {
   "cell_type": "code",
   "execution_count": 39,
   "metadata": {},
   "outputs": [
    {
     "data": {
      "image/png": "[encoded data removed]",
      "text/plain": [
       "<Figure size 432x432 with 1 Axes>"
      ]
     },
     "metadata": {
      "needs_background": "light"
     },
     "output_type": "display_data"
    }
   ],
   "source": [
    "import sklearn\n",
    "\n",
    "import scipy\n",
    "from scipy.cluster.vq import kmeans2\n",
    "\n",
    "\n",
    "##let us use the data from previous example!\n",
    "num_clusters = 2\n",
    "centroids, labels = kmeans2(X, num_clusters) #centroids are centers of each cluster that min sse , labels are \"predictions\"\n",
    "Xhat_zero = X[labels == 0] #should actually be yhat\n",
    "Xhat_one = X[labels == 1]\n",
    "\n",
    "plt.figure(figsize=(6,6))\n",
    "\n",
    "plt.scatter(X_zero[:,0], X_zero[:, 1], color='red', marker='*',s=100)\n",
    "plt.scatter(X_one[:,0], X_one[:, 1], color='blue', marker='*', s=100)\n",
    "\n",
    "plt.scatter(Xhat_zero[:,0], Xhat_zero[:, 1], color='orange', marker='o')\n",
    "plt.scatter(Xhat_one[:,0], Xhat_one[:, 1], color='cyan', marker='o')\n",
    "\n",
    "plt.scatter(centroids[:, 0], centroids[:, 1], c='green', marker='d')\n",
    "plt.show()"
   ]
  },
  {
   "cell_type": "markdown",
   "metadata": {},
   "source": [
    "limitations of k means -- it only works for \"convex\" bodies. let us see an example"
   ]
  },
  {
   "cell_type": "code",
   "execution_count": 23,
   "metadata": {},
   "outputs": [
    {
     "data": {
      "image/png": "[encoded data removed]",
      "text/plain": [
       "<Figure size 432x432 with 1 Axes>"
      ]
     },
     "metadata": {
      "needs_background": "light"
     },
     "output_type": "display_data"
    }
   ],
   "source": [
    "num0 = 50\n",
    "num1 = 50\n",
    "\n",
    "#one class just as done before\n",
    "X_zero = .5* np.random.randn(num0, n)\n",
    "\n",
    "#the other class done differently\n",
    "radius = 4\n",
    "angle = np.pi * np.random.uniform(0, 2, size = num1)\n",
    "X_one = np.array([radius  * np.cos(angle), radius * np.sin(angle)])\n",
    "X_one = X_one.T\n",
    "\n",
    "X = np.vstack((X_zero, X_one))\n",
    "\n",
    "plt.figure(figsize=(6,6))\n",
    "plt.scatter(X_zero[:,0], X_zero[:, 1], color='red', marker='v')\n",
    "plt.scatter(X_one[:,0], X_one[:, 1], color='blue', marker='*')\n",
    "plt.show()"
   ]
  },
  {
   "cell_type": "markdown",
   "metadata": {},
   "source": [
    "let us run k means on this"
   ]
  },
  {
   "cell_type": "code",
   "execution_count": 24,
   "metadata": {},
   "outputs": [
    {
     "data": {
      "image/png": "[encoded data removed]",
      "text/plain": [
       "<Figure size 432x432 with 1 Axes>"
      ]
     },
     "metadata": {
      "needs_background": "light"
     },
     "output_type": "display_data"
    }
   ],
   "source": [
    "#remember that clustering is UNSUPERVISED -- so \n",
    "num_clusters = 2\n",
    "centroids, labels = kmeans2(X, num_clusters)\n",
    "Xhat_zero = X[labels == 0]\n",
    "Xhat_one = X[labels == 1]\n",
    "\n",
    "plt.figure(figsize=(6,6))\n",
    "\n",
    "plt.scatter(X_zero[:,0], X_zero[:, 1], color='red', marker='*',s=100)\n",
    "plt.scatter(X_one[:,0], X_one[:, 1], color='blue', marker='*', s=100)\n",
    "\n",
    "plt.scatter(Xhat_zero[:,0], Xhat_zero[:, 1], color='orange', marker='o')\n",
    "plt.scatter(Xhat_one[:,0], Xhat_one[:, 1], color='cyan', marker='o')\n",
    "\n",
    "\n",
    "plt.scatter(centroids[:, 0], centroids[:, 1], c='green', marker='d')\n",
    "plt.show()"
   ]
  },
  {
   "cell_type": "markdown",
   "metadata": {},
   "source": [
    "# methods such as spectral clustering that are generalizations of k means and can deal very well with \"non-convex bodies\""
   ]
  }
 ],
 "metadata": {
  "kernelspec": {
   "display_name": "Python 3",
   "language": "python",
   "name": "python3"
  },
  "language_info": {
   "codemirror_mode": {
    "name": "ipython",
    "version": 3
   },
   "file_extension": ".py",
   "mimetype": "text/x-python",
   "name": "python",
   "nbconvert_exporter": "python",
   "pygments_lexer": "ipython3",
   "version": "3.6.9"
  }
 },
 "nbformat": 4,
 "nbformat_minor": 2
}
