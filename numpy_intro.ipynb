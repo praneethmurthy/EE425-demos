{
 "cells": [
  {
   "cell_type": "markdown",
   "metadata": {},
   "source": [
    "# Python/NumPy help session\n",
    "\n",
    "(Material is modified from the cs231n numpy tutorial, python official documentation, and some extra stuff)"
   ]
  },
  {
   "cell_type": "markdown",
   "metadata": {},
   "source": [
    "## Basic Data types "
   ]
  },
  {
   "cell_type": "code",
   "execution_count": 4,
   "metadata": {},
   "outputs": [
    {
     "name": "stdout",
     "output_type": "stream",
     "text": [
      "3\n",
      "<class 'int'>\n",
      "3 4 15 9\n",
      "8\n",
      "24\n"
     ]
    }
   ],
   "source": [
    "#integer\n",
    "x = 3\n",
    "print(x)\n",
    "print(type(x))\n",
    "\n",
    "print(x, x + 1, x * 5, x ** 2) #exponential is not ^ \n",
    "\n",
    "x += 5 # x = x + 5\n",
    "print(x)\n",
    "\n",
    "x *= 3\n",
    "print(x)"
   ]
  },
  {
   "cell_type": "code",
   "execution_count": 6,
   "metadata": {},
   "outputs": [
    {
     "name": "stdout",
     "output_type": "stream",
     "text": [
      "2.0\n",
      "<class 'float'>\n",
      "2.0 3.0 10.0 4.0\n"
     ]
    }
   ],
   "source": [
    "#floating point\n",
    "y = 2.\n",
    "print(y)\n",
    "print(type(y))\n",
    "\n",
    "print(y, y + 1, y * 5, y ** 2)"
   ]
  },
  {
   "cell_type": "code",
   "execution_count": 7,
   "metadata": {},
   "outputs": [
    {
     "name": "stdout",
     "output_type": "stream",
     "text": [
      "<class 'bool'> <class 'bool'>\n",
      "True\n",
      "False\n",
      "False\n"
     ]
    }
   ],
   "source": [
    "#boolean\n",
    "z, w = True, False\n",
    "\n",
    "print(type(z), type(w))\n",
    "\n",
    "print(z or w) #logical operations\n",
    "print(z and w) \n",
    "print(not z)"
   ]
  },
  {
   "cell_type": "code",
   "execution_count": 10,
   "metadata": {},
   "outputs": [
    {
     "name": "stdout",
     "output_type": "stream",
     "text": [
      "a1 =  machine\n",
      "a2 =  learning\n",
      "machine learning is awesome\n",
      "<class 'str'> <class 'str'> <class 'str'>\n"
     ]
    }
   ],
   "source": [
    "#strings ##numpy tutorial from cs 231n ( ) \n",
    "a1 = 'machine'\n",
    "a2 = \"learning\" ##absolutely fine, it treats them similarly\n",
    "\n",
    "print('a1 = ', a1)\n",
    "print('a2 = ', a2)\n",
    "\n",
    "a3 = a1 + \" \" + a2 + ' is awesome'\n",
    "print(a3)\n",
    "\n",
    "print(type(a1), type(a2), type(a3))"
   ]
  },
  {
   "cell_type": "markdown",
   "metadata": {},
   "source": [
    "## Advanced Data Types a.k.a. Containers\n",
    "\n",
    "(only go through lists and dictionaries) "
   ]
  },
  {
   "cell_type": "markdown",
   "metadata": {},
   "source": [
    "### 1. Lists"
   ]
  },
  {
   "cell_type": "code",
   "execution_count": 15,
   "metadata": {},
   "outputs": [
    {
     "name": "stdout",
     "output_type": "stream",
     "text": [
      "<class 'list'> [1, 2, 3, 4, 5]\n",
      "1 3\n",
      "5 1\n"
     ]
    }
   ],
   "source": [
    "# Lists (can think of these as python's implementation of arrays ***, but has several different properties)\n",
    "\n",
    "list1 = [1, 2, 3, 4, 5]\n",
    "print(type(list1), list1)\n",
    "\n",
    "print(list1[0], list1[2])\n",
    "\n",
    "print(list1[-1], list1[-5])"
   ]
  },
  {
   "cell_type": "code",
   "execution_count": 16,
   "metadata": {},
   "outputs": [
    {
     "name": "stdout",
     "output_type": "stream",
     "text": [
      "[10, 2, 3, 4, 5]\n"
     ]
    }
   ],
   "source": [
    "list1[0] = 10\n",
    "print(list1)"
   ]
  },
  {
   "cell_type": "code",
   "execution_count": 20,
   "metadata": {},
   "outputs": [
    {
     "name": "stdout",
     "output_type": "stream",
     "text": [
      "[10, 2, 3, 4, 5, 'ML']\n",
      "[10, 2, 3, 4, 5]\n",
      "[10, 2, 3, 4]\n"
     ]
    }
   ],
   "source": [
    "list1.append(\"ML\") ##add operation \n",
    "print(list1)\n",
    "\n",
    "list1.pop() ##remove operation\n",
    "print(list1)\n",
    "\n",
    "list1.pop()\n",
    "print(list1)"
   ]
  },
  {
   "cell_type": "markdown",
   "metadata": {},
   "source": [
    "slicing (aka indexing or extracting out \"useful parts\") of lists\n",
    "remember that the second index is always excluded! "
   ]
  },
  {
   "cell_type": "code",
   "execution_count": 24,
   "metadata": {},
   "outputs": [
    {
     "name": "stdout",
     "output_type": "stream",
     "text": [
      "[0, 1, 2, 3, 4, 5, 6, 7, 8, 9]\n",
      "[0, 1, 2, 3]\n",
      "[7, 8]\n"
     ]
    }
   ],
   "source": [
    "list2 = list(range(10))\n",
    "l3 = list2[2:5]\n",
    "#print(list2)\n",
    "#print(l3, type(l3))\n",
    "\n",
    "\n",
    "print(list2[:]) ##all elements\n",
    "print(list2[:4]) ##alll elements until 4th (non inclusive)\n",
    "print(list2[7:-1]) ##all elements after 7"
   ]
  },
  {
   "cell_type": "markdown",
   "metadata": {},
   "source": [
    "Similar to matlab, you can loop over lists! "
   ]
  },
  {
   "cell_type": "code",
   "execution_count": 25,
   "metadata": {},
   "outputs": [
    {
     "name": "stdout",
     "output_type": "stream",
     "text": [
      "<class 'list'>\n",
      "cat\n",
      "dog\n",
      "monkey\n"
     ]
    }
   ],
   "source": [
    "animal_list = ['cat', 'dog', 'monkey']\n",
    "print(type(animal_list))\n",
    "\n",
    "for animal in animal_list:\n",
    "    print(animal)"
   ]
  },
  {
   "cell_type": "markdown",
   "metadata": {},
   "source": [
    "List Comprehensions"
   ]
  },
  {
   "cell_type": "code",
   "execution_count": 28,
   "metadata": {
    "scrolled": true
   },
   "outputs": [
    {
     "name": "stdout",
     "output_type": "stream",
     "text": [
      "[0, 1, 4, 9, 16, 25]\n",
      "[0, 1, 4, 9, 16, 25]\n",
      "[1, 9, 25]\n"
     ]
    }
   ],
   "source": [
    "mylist = list(range(6))\n",
    "squares = [] #empty\n",
    "\n",
    "for ii in mylist:\n",
    "    squares.append(ii ** 2)\n",
    "    \n",
    "print(squares)\n",
    "\n",
    "\n",
    "\n",
    "## can make this much simpler as follows\n",
    "\n",
    "\n",
    "squares_new = [ii ** 2 for ii in mylist]\n",
    "print(squares_new)\n",
    "\n",
    "## can include conditions as well\n",
    "\n",
    "odd_squares = [ii ** 2 for ii in mylist if ii % 2 == 1]\n",
    "print(odd_squares)\n"
   ]
  },
  {
   "cell_type": "markdown",
   "metadata": {},
   "source": [
    "## 2. Dictionaries"
   ]
  },
  {
   "cell_type": "code",
   "execution_count": 35,
   "metadata": {},
   "outputs": [
    {
     "name": "stdout",
     "output_type": "stream",
     "text": [
      "<class 'dict'>\n",
      "supervised\n",
      "True\n",
      "{'linear_regression': 'supervised', 'PCA': 'unsupervised', 'neural_network': 'supervised'}\n",
      "\n",
      "\n",
      "\n",
      "\n",
      "linear_regression is a supervised learning technique\n",
      "PCA is a unsupervised learning technique\n",
      "neural_network is a supervised learning technique\n"
     ]
    }
   ],
   "source": [
    "# dictionaries are kind of like hash tables *** #constant lookup time\n",
    "dict1 = {'linear_regression' : 'supervised', 'PCA': 'unsupervised'} #key : value pairs!\n",
    "print(type(dict1))\n",
    "\n",
    "print(dict1['linear_regression'])\n",
    "\n",
    "dict11 = dict(linear_regression='supervised', PCA= 'unsupervised')\n",
    "print(dict1 == dict11)\n",
    "\n",
    "\n",
    "dict1['neural_network'] = 'supervised'\n",
    "\n",
    "print(dict1)\n",
    "\n",
    "#del dict1['linear_regression']\n",
    "\n",
    "\n",
    "print('\\n\\n\\n')\n",
    "for models in dict1: ##models are keys and method are values\n",
    "    method = dict1[models]\n",
    "    print_str = models + ' is a ' + method + ' learning technique'\n",
    "    print(print_str)\n",
    "\n",
    "\n"
   ]
  },
  {
   "cell_type": "markdown",
   "metadata": {},
   "source": [
    "as done with lists we can also do dictionary comprehensions (will not be covered here )"
   ]
  },
  {
   "cell_type": "markdown",
   "metadata": {},
   "source": [
    "## NumPy "
   ]
  },
  {
   "cell_type": "code",
   "execution_count": 36,
   "metadata": {},
   "outputs": [
    {
     "name": "stdout",
     "output_type": "stream",
     "text": [
      "1.19.5\n"
     ]
    }
   ],
   "source": [
    "import numpy as np\n",
    "\n",
    "print(np.__version__)"
   ]
  },
  {
   "cell_type": "code",
   "execution_count": 39,
   "metadata": {},
   "outputs": [
    {
     "name": "stdout",
     "output_type": "stream",
     "text": [
      "1\n",
      "(3,) <class 'numpy.ndarray'>\n",
      "2\n",
      "(3, 1)\n"
     ]
    }
   ],
   "source": [
    "a1 = np.array([1,2,3])\n",
    "print(a1.ndim)\n",
    "print(a1.shape, (type(a1)))\n",
    "\n",
    "a2 = np.array([[1], [2], [3]])\n",
    "print(a2.ndim)\n",
    "print(a2.shape)"
   ]
  },
  {
   "cell_type": "code",
   "execution_count": 38,
   "metadata": {},
   "outputs": [
    {
     "name": "stdout",
     "output_type": "stream",
     "text": [
      "(2, 2) [[0. 0.]\n",
      " [0. 0.]] <class 'numpy.ndarray'>\n",
      "\n",
      "\n",
      "\n",
      "\n",
      "(2,) [0. 0.] <class 'numpy.ndarray'>\n",
      "\n",
      "\n",
      "\n",
      "2 1\n",
      "\n",
      "\n",
      "\n"
     ]
    }
   ],
   "source": [
    "# several \"methods\" are available for numpy arrays -- similar to matlab\n",
    "az1 = np.zeros((2,2))\n",
    "print(az1.shape, az1, type(az1))\n",
    "\n",
    "print('\\n\\n\\n')\n",
    "az2 = np.zeros(2)\n",
    "print(az2.shape, az2, type(az2))\n",
    "\n",
    "print('\\n\\n')\n",
    "print(az1.ndim, az2.ndim)\n",
    "print('\\n\\n')"
   ]
  },
  {
   "cell_type": "code",
   "execution_count": 41,
   "metadata": {},
   "outputs": [
    {
     "name": "stdout",
     "output_type": "stream",
     "text": [
      "a =  [[1. 1.]\n",
      " [1. 1.]]\n",
      "\n",
      "\n",
      "\n",
      "\n",
      "b =  [[5 5]\n",
      " [5 5]]\n",
      "\n",
      "\n",
      "\n",
      "\n",
      "c =  [[1. 0. 0. 0.]\n",
      " [0. 1. 0. 0.]\n",
      " [0. 0. 1. 0.]\n",
      " [0. 0. 0. 1.]]\n",
      "\n",
      "\n",
      "\n",
      "\n",
      "d =  [[ 1.2995551  -1.04281782]\n",
      " [ 0.62870946  0.37089952]\n",
      " [-0.77253373  1.7181355 ]]\n",
      "\n",
      "\n",
      "\n",
      "\n"
     ]
    }
   ],
   "source": [
    "a = np.ones((2,2)) #array of ones  \n",
    "b = np.full((2,2), 5) #constant array\n",
    "c = np.eye(4) #identity matrix this takes only 1 dimension since it has to generate a square matrix\n",
    "d = np.random.randn(3,2) #random matrix\n",
    "\n",
    "print('a = ', a)\n",
    "print('\\n\\n\\n')\n",
    "\n",
    "print('b = ', b)\n",
    "print('\\n\\n\\n')\n",
    "\n",
    "print('c = ', c)\n",
    "print('\\n\\n\\n')\n",
    "\n",
    "print('d = ', d)\n",
    "print('\\n\\n\\n')"
   ]
  },
  {
   "cell_type": "markdown",
   "metadata": {},
   "source": [
    "slicing in the context of numpy arrays "
   ]
  },
  {
   "cell_type": "code",
   "execution_count": 46,
   "metadata": {},
   "outputs": [
    {
     "name": "stdout",
     "output_type": "stream",
     "text": [
      "<class 'numpy.ndarray'> (4, 3)\n",
      "[[-1.66742148  0.08035015 -1.75189386]\n",
      " [-2.24556235  0.31494571 -0.77442378]\n",
      " [-1.29731798 -1.22032744 -1.11428796]\n",
      " [ 1.32635782 -0.51601115 -1.74698943]]\n",
      "\n",
      "\n",
      "\n",
      "\n",
      "xc =  [-1.66742148 -2.24556235 -1.29731798  1.32635782]\n",
      "<class 'numpy.ndarray'> (4,)\n",
      "xc1 =  [[-1.66742148]\n",
      " [-2.24556235]\n",
      " [-1.29731798]\n",
      " [ 1.32635782]]\n",
      "<class 'numpy.ndarray'> (4, 1)\n",
      "\n",
      "\n",
      "\n",
      "\n",
      "xr =  [[-1.66742148  0.08035015 -1.75189386]]\n",
      "<class 'numpy.ndarray'> (1, 3)\n"
     ]
    }
   ],
   "source": [
    "X = np.random.randn(4, 3) #2d array\n",
    "print(type(X), X.shape)\n",
    "print(X)\n",
    "print('\\n\\n\\n')\n",
    "\n",
    "\n",
    "#slicing requires 2 dimensions now since ndim is 2\n",
    "#let us extract gien row and given column\n",
    "xc = X[:, 0] #first column\n",
    "print('xc = ', xc)\n",
    "print(type(xc), xc.shape) #notice the shapes!\n",
    "\n",
    "\n",
    "xc1 = X[:, 0:1] ##ignore second element thingy \n",
    "print('xc1 = ', xc1)\n",
    "print(type(xc1), xc1.shape)\n",
    "\n",
    "\n",
    "print('\\n\\n\\n')\n",
    "xr = X[0:1, :] #first row\n",
    "print('xr = ', xr)\n",
    "print(type(xr), xr.shape) #notice the shapes!\n"
   ]
  },
  {
   "cell_type": "code",
   "execution_count": 48,
   "metadata": {},
   "outputs": [
    {
     "name": "stdout",
     "output_type": "stream",
     "text": [
      "[[-1.66742148  0.08035015]\n",
      " [-2.24556235  0.31494571]] (2, 2)\n"
     ]
    }
   ],
   "source": [
    "# now let us look at sub-blocks of the 2d-array\n",
    "x1 = X[0:2, 0:2] #observe that the last \"index\" is ignored again, it is non-inclusive\n",
    "print(x1 , x1.shape)"
   ]
  },
  {
   "cell_type": "markdown",
   "metadata": {},
   "source": [
    "### Questions for you! "
   ]
  },
  {
   "cell_type": "code",
   "execution_count": null,
   "metadata": {},
   "outputs": [],
   "source": [
    "X = np.random.randn(5,4)\n",
    "\n",
    "#1. How do i select the elements second and third rows and all but the first column"
   ]
  },
  {
   "cell_type": "code",
   "execution_count": null,
   "metadata": {},
   "outputs": [],
   "source": [
    "# 2. how do i select the elements from the last column, but exclude the first and last row elements\n"
   ]
  },
  {
   "cell_type": "code",
   "execution_count": 50,
   "metadata": {},
   "outputs": [
    {
     "name": "stdout",
     "output_type": "stream",
     "text": [
      "before \n",
      " [[-1.45030402  1.01808729  1.07190446]\n",
      " [ 0.02679251 -1.73710764 -0.64764378]\n",
      " [ 0.62599987 -0.86054983  0.05308684]\n",
      " [-1.20605017  1.6191568  -0.03280365]]\n",
      "after \n",
      " [[-1.45030402 10.          1.07190446]\n",
      " [ 0.02679251 -1.73710764 -0.64764378]\n",
      " [ 0.62599987 -0.86054983  0.05308684]\n",
      " [-1.20605017  1.6191568  -0.03280365]]\n"
     ]
    }
   ],
   "source": [
    "#why is it called slicing? \n",
    "X = np.random.randn(4, 3)\n",
    "Y = X[0:2, 1:2]\n",
    "\n",
    "\n",
    "#print(Y)\n",
    "print('before \\n', X)\n",
    "Y[0,0] = 10\n",
    "print('after \\n', X) #observe that the changes made to Y automatically carries over to X. hence slicing! "
   ]
  },
  {
   "cell_type": "markdown",
   "metadata": {},
   "source": [
    "other forms of array indexing"
   ]
  },
  {
   "cell_type": "code",
   "execution_count": 51,
   "metadata": {},
   "outputs": [
    {
     "name": "stdout",
     "output_type": "stream",
     "text": [
      "[ 0.84994528  0.66526052 -0.135212  ] (3,)\n",
      "[ 0.84994528  0.66526052 -0.135212  ] (3,)\n",
      "\n",
      "\n",
      "\n",
      "\n",
      "before \n",
      " [[ 0.84994528  0.59099431  1.13833105]\n",
      " [ 0.04867159  0.66526052 -0.3532909 ]\n",
      " [ 0.74713977  0.9348436  -0.135212  ]]\n",
      "after \n",
      " [[ 0.84994528  0.59099431  1.13833105]\n",
      " [ 0.04867159  0.66526052 -0.3532909 ]\n",
      " [ 0.74713977  0.9348436  -0.135212  ]]\n"
     ]
    }
   ],
   "source": [
    "X = np.random.randn(3,3)\n",
    "\n",
    "#suppose i only want to access the diagonal elements #integer indexing\n",
    "x1 = X[[0, 1, 2], [0,1,2]]\n",
    "print(x1, x1.shape)\n",
    "\n",
    "#equivalent way of doing this is \n",
    "x2 = np.array([X[0,0], X[1,1], X[2,2]])\n",
    "print(x2, x2.shape)\n",
    "print('\\n\\n\\n')\n",
    "#now what happens if we modify x1 or x2\n",
    "print('before \\n', X)\n",
    "x1[0] = 10\n",
    "x2[1] = 20\n",
    "print('after \\n', X)"
   ]
  },
  {
   "cell_type": "markdown",
   "metadata": {},
   "source": [
    "simple question for you: How do I select off diagonal elements (the \"other diagonal\") and discuss whether we want changes in one to carry over to the other or not! "
   ]
  },
  {
   "cell_type": "markdown",
   "metadata": {},
   "source": [
    "boolean indexing "
   ]
  },
  {
   "cell_type": "code",
   "execution_count": 57,
   "metadata": {},
   "outputs": [
    {
     "name": "stdout",
     "output_type": "stream",
     "text": [
      "[[False  True False]\n",
      " [False False False]\n",
      " [ True False False]] <class 'numpy.ndarray'>\n",
      "[0.82994595 2.07982375] <class 'numpy.ndarray'>\n",
      "[[-0.          0.82994595 -0.        ]\n",
      " [-0.         -0.         -0.        ]\n",
      " [ 2.07982375 -0.         -0.        ]]\n"
     ]
    }
   ],
   "source": [
    "X = np.random.randn(3,3)\n",
    "idx = (X > 0)\n",
    "\n",
    "print(idx ,type(idx))\n",
    "print(X[idx], type(X[idx]))\n",
    "\n",
    "print( X * (X >0))"
   ]
  },
  {
   "cell_type": "markdown",
   "metadata": {},
   "source": [
    "# array operations "
   ]
  },
  {
   "cell_type": "code",
   "execution_count": 58,
   "metadata": {},
   "outputs": [
    {
     "name": "stdout",
     "output_type": "stream",
     "text": [
      "[[ 6.  8.]\n",
      " [10. 12.]] \n",
      "\n",
      "[[-4. -4.]\n",
      " [-4. -4.]] \n",
      "\n",
      "[[ 5. 12.]\n",
      " [21. 32.]] \n",
      "\n",
      "[[0.2        0.33333333]\n",
      " [0.42857143 0.5       ]] \n",
      "\n"
     ]
    }
   ],
   "source": [
    "a = np.array([[1, 2], [3, 4]], dtype=np.float64)\n",
    "b = np.array([[5, 6], [7, 8]], dtype=np.float64)\n",
    "\n",
    "\n",
    "# all the below are element wise operations (for multiplication and \"division\" this is significantly different from matlab!)\n",
    "print(a + b, '\\n') \n",
    "print(a - b, '\\n')\n",
    "print(a * b, '\\n') ##really important!!\n",
    "print(a / b, '\\n')"
   ]
  },
  {
   "cell_type": "code",
   "execution_count": 60,
   "metadata": {},
   "outputs": [
    {
     "name": "stdout",
     "output_type": "stream",
     "text": [
      "219\n",
      "219\n",
      "\n",
      "\n",
      "\n",
      "\n",
      "[29 67]\n",
      "[29 67]\n",
      "\n",
      "\n",
      "\n",
      "\n",
      "[[19 22]\n",
      " [43 50]]\n",
      "[[19 22]\n",
      " [43 50]]\n"
     ]
    }
   ],
   "source": [
    "#different ways of doing \"array\" products\n",
    "a = np.array([[1,2],[3,4]])\n",
    "b = np.array([[5,6],[7,8]])\n",
    "\n",
    "x = np.array([9,10])\n",
    "y = np.array([11, 12])\n",
    "\n",
    "#inner products\n",
    "print(x.dot(y)) #<x, y>\n",
    "print(np.dot(x, y))\n",
    "print('\\n\\n\\n')\n",
    "\n",
    "# matrix-vector product\n",
    "print(a.dot(x)) ##check what happens if second argument is 2d array\n",
    "print(np.dot(a, x)) ##probably what you generally do\n",
    "print('\\n\\n\\n')\n",
    "\n",
    "#matrix-matrix product\n",
    "print(a.dot(b))\n",
    "print(np.dot(a, b))"
   ]
  },
  {
   "cell_type": "markdown",
   "metadata": {},
   "source": [
    "### Broadcasting"
   ]
  },
  {
   "cell_type": "code",
   "execution_count": 66,
   "metadata": {},
   "outputs": [
    {
     "name": "stdout",
     "output_type": "stream",
     "text": [
      "[2 4 6]\n",
      "[2 4 6]\n",
      "(4, 3) (3,)\n",
      "[[ 1  2  3]\n",
      " [11 12 13]\n",
      " [21 22 23]\n",
      " [31 32 33]]\n",
      "(2, 3) (2,)\n",
      "[[ 1  1  1]\n",
      " [12 12 12]]\n"
     ]
    }
   ],
   "source": [
    "'''\n",
    "Broadcasting two arrays together follows these rules:\n",
    "\n",
    "1. If the arrays do not have the same ndim, prepend the shape of the lower ndim array with 1s until both\n",
    "        shapes have the same length.\n",
    "2. The two arrays are said to be compatible in a dimension if they have the same size in the dimension, \n",
    "        or if one of the arrays has size 1 in that dimension.\n",
    "3. The arrays can be broadcast together if they are compatible in all dimensions.\n",
    "4. After broadcasting, each array behaves as if it had shape equal to the elementwise maximum of \n",
    "        shapes of the two input arrays.\n",
    "5. In any dimension where one array had size 1 and the other array had size greater than 1, \n",
    "        the first array behaves as if it were copied along that dimension\n",
    "\n",
    "also refer to : https://numpy.org/doc/stable/user/basics.broadcasting.html for the nitty gritties but \n",
    "    also check http://scipy.github.io/old-wiki/pages/EricsBroadcastingDoc for visual!\n",
    "'''\n",
    "\n",
    "#let us see some examples! -- notice that the trailing (list dimension should be same or one of them should be 1)\n",
    "\n",
    "# eg 1 \n",
    "a = np.array([1, 2, 3])\n",
    "b = 2\n",
    "print(a * b)\n",
    "b2 = np.array([2, 2, 2])\n",
    "print(a * b2) #another way of doing this, but not very efficient\n",
    "#the explanation here is that numpy treats scalars as having shape () so b is broadcasted into (3, ) and then multiplied\n",
    "\n",
    "#eg 2\n",
    "x = np.array([[0, 0, 0], [10, 10, 10], [20, 20, 20], [30, 30, 30]])\n",
    "y = np.array([1, 2, 3])\n",
    "print(x.shape, y.shape)\n",
    "\n",
    "print(x + y)\n",
    "\n",
    "#the explanation here is that b is broadcasted into shape (4, 3) and then added\n",
    "\n",
    "\n",
    "#eg 3 (adding column wise)\n",
    "v = np.array([[0, 0, 0], [10, 10, 10]])\n",
    "w = np.array([1, 2])\n",
    "print(v.shape, w.shape)\n",
    "print((v.T + w).T)\n",
    "\n",
    "#another way of doing this\n",
    "\n",
    "#similar explanation, w is broadcasted into (2, 3) from (3, )\n"
   ]
  },
  {
   "cell_type": "markdown",
   "metadata": {},
   "source": [
    "## Linear Regression, understanding the homework"
   ]
  },
  {
   "cell_type": "code",
   "execution_count": 87,
   "metadata": {},
   "outputs": [
    {
     "name": "stdout",
     "output_type": "stream",
     "text": [
      "(10, 1)\n",
      "(20, 10)\n",
      "(20, 1)\n",
      "(20, 10)\n",
      "(20, 1)\n"
     ]
    }
   ],
   "source": [
    "m, n = 20, 10\n",
    "\n",
    "noise_var = 1e-8\n",
    "theta_true = np.random.randn(n, 1)\n",
    "print(theta_true.shape)\n",
    "X = np.random.randn(m,n)\n",
    "\n",
    "print(X.shape)\n",
    "noise = np.sqrt(noise_var) * np.random.randn(m, 1)\n",
    "\n",
    "#matrix version of generating data -- avoids for loops. can you tell me why this is equivalent to the way you have done it?\n",
    "y = np.dot(X, theta_true) + noise # another way to do this is y1 = X @ theta_true +noise (only if dimensions are correct!)\n",
    "print(y.shape)\n",
    "\n",
    "\n",
    "X1 = np.zeros((m, n))\n",
    "y1 = np.zeros((m, 1))\n",
    "for ii in range(m):\n",
    "    xtmp = np.random.randn(n,1)\n",
    "    ytmp = np.sum(theta_true * xtmp) + np.sqrt(noise_var) * np.random.randn(1,1)\n",
    "    X1[ii : ii + 1,:] = xtmp.T\n",
    "    y1[ii] = ytmp\n",
    "\n",
    "    \n",
    "print(X1.shape)\n",
    "print(y1.shape)"
   ]
  },
  {
   "cell_type": "markdown",
   "metadata": {},
   "source": [
    "## Pandas (very mild intro)"
   ]
  },
  {
   "cell_type": "code",
   "execution_count": 88,
   "metadata": {},
   "outputs": [
    {
     "data": {
      "text/html": [
       "<div>\n",
       "<style scoped>\n",
       "    .dataframe tbody tr th:only-of-type {\n",
       "        vertical-align: middle;\n",
       "    }\n",
       "\n",
       "    .dataframe tbody tr th {\n",
       "        vertical-align: top;\n",
       "    }\n",
       "\n",
       "    .dataframe thead th {\n",
       "        text-align: right;\n",
       "    }\n",
       "</style>\n",
       "<table border=\"1\" class=\"dataframe\">\n",
       "  <thead>\n",
       "    <tr style=\"text-align: right;\">\n",
       "      <th></th>\n",
       "      <th>800\\t0\\t0.3048\\t71.3\\t0.00266337\\t126.201</th>\n",
       "    </tr>\n",
       "  </thead>\n",
       "  <tbody>\n",
       "    <tr>\n",
       "      <th>0</th>\n",
       "      <td>1000\\t0\\t0.3048\\t71.3\\t0.00266337\\t125.201</td>\n",
       "    </tr>\n",
       "    <tr>\n",
       "      <th>1</th>\n",
       "      <td>1250\\t0\\t0.3048\\t71.3\\t0.00266337\\t125.951</td>\n",
       "    </tr>\n",
       "    <tr>\n",
       "      <th>2</th>\n",
       "      <td>1600\\t0\\t0.3048\\t71.3\\t0.00266337\\t127.591</td>\n",
       "    </tr>\n",
       "    <tr>\n",
       "      <th>3</th>\n",
       "      <td>2000\\t0\\t0.3048\\t71.3\\t0.00266337\\t127.461</td>\n",
       "    </tr>\n",
       "    <tr>\n",
       "      <th>4</th>\n",
       "      <td>2500\\t0\\t0.3048\\t71.3\\t0.00266337\\t125.571</td>\n",
       "    </tr>\n",
       "  </tbody>\n",
       "</table>\n",
       "</div>"
      ],
      "text/plain": [
       "    800\\t0\\t0.3048\\t71.3\\t0.00266337\\t126.201\n",
       "0  1000\\t0\\t0.3048\\t71.3\\t0.00266337\\t125.201\n",
       "1  1250\\t0\\t0.3048\\t71.3\\t0.00266337\\t125.951\n",
       "2  1600\\t0\\t0.3048\\t71.3\\t0.00266337\\t127.591\n",
       "3  2000\\t0\\t0.3048\\t71.3\\t0.00266337\\t127.461\n",
       "4  2500\\t0\\t0.3048\\t71.3\\t0.00266337\\t125.571"
      ]
     },
     "execution_count": 88,
     "metadata": {},
     "output_type": "execute_result"
    }
   ],
   "source": [
    "import pandas as pd\n",
    "df = pd.read_csv('https://archive.ics.uci.edu/ml/machine-learning-databases/00291/airfoil_self_noise.dat') \n",
    "##data frames\n",
    "\n",
    "df.head(5)"
   ]
  },
  {
   "cell_type": "markdown",
   "metadata": {},
   "source": [
    "this looks like nothing that we hoped it would look like! let's fix this"
   ]
  },
  {
   "cell_type": "code",
   "execution_count": 94,
   "metadata": {},
   "outputs": [
    {
     "data": {
      "text/html": [
       "<div>\n",
       "<style scoped>\n",
       "    .dataframe tbody tr th:only-of-type {\n",
       "        vertical-align: middle;\n",
       "    }\n",
       "\n",
       "    .dataframe tbody tr th {\n",
       "        vertical-align: top;\n",
       "    }\n",
       "\n",
       "    .dataframe thead th {\n",
       "        text-align: right;\n",
       "    }\n",
       "</style>\n",
       "<table border=\"1\" class=\"dataframe\">\n",
       "  <thead>\n",
       "    <tr style=\"text-align: right;\">\n",
       "      <th></th>\n",
       "      <th>frequency</th>\n",
       "      <th>angle</th>\n",
       "      <th>length</th>\n",
       "      <th>velocity</th>\n",
       "      <th>displacement</th>\n",
       "      <th>pressure (output)</th>\n",
       "    </tr>\n",
       "  </thead>\n",
       "  <tbody>\n",
       "    <tr>\n",
       "      <th>1498</th>\n",
       "      <td>2500</td>\n",
       "      <td>15.6</td>\n",
       "      <td>0.1016</td>\n",
       "      <td>39.6</td>\n",
       "      <td>0.052849</td>\n",
       "      <td>110.264</td>\n",
       "    </tr>\n",
       "    <tr>\n",
       "      <th>1499</th>\n",
       "      <td>3150</td>\n",
       "      <td>15.6</td>\n",
       "      <td>0.1016</td>\n",
       "      <td>39.6</td>\n",
       "      <td>0.052849</td>\n",
       "      <td>109.254</td>\n",
       "    </tr>\n",
       "    <tr>\n",
       "      <th>1500</th>\n",
       "      <td>4000</td>\n",
       "      <td>15.6</td>\n",
       "      <td>0.1016</td>\n",
       "      <td>39.6</td>\n",
       "      <td>0.052849</td>\n",
       "      <td>106.604</td>\n",
       "    </tr>\n",
       "    <tr>\n",
       "      <th>1501</th>\n",
       "      <td>5000</td>\n",
       "      <td>15.6</td>\n",
       "      <td>0.1016</td>\n",
       "      <td>39.6</td>\n",
       "      <td>0.052849</td>\n",
       "      <td>106.224</td>\n",
       "    </tr>\n",
       "    <tr>\n",
       "      <th>1502</th>\n",
       "      <td>6300</td>\n",
       "      <td>15.6</td>\n",
       "      <td>0.1016</td>\n",
       "      <td>39.6</td>\n",
       "      <td>0.052849</td>\n",
       "      <td>104.204</td>\n",
       "    </tr>\n",
       "  </tbody>\n",
       "</table>\n",
       "</div>"
      ],
      "text/plain": [
       "      frequency  angle  length  velocity  displacement  pressure (output)\n",
       "1498       2500   15.6  0.1016      39.6      0.052849            110.264\n",
       "1499       3150   15.6  0.1016      39.6      0.052849            109.254\n",
       "1500       4000   15.6  0.1016      39.6      0.052849            106.604\n",
       "1501       5000   15.6  0.1016      39.6      0.052849            106.224\n",
       "1502       6300   15.6  0.1016      39.6      0.052849            104.204"
      ]
     },
     "execution_count": 94,
     "metadata": {},
     "output_type": "execute_result"
    }
   ],
   "source": [
    "'''\n",
    "Let us give names to the features\n",
    "\n",
    "1. Frequency, in Hertzs.\n",
    "2. Angle of attack, in degrees.\n",
    "3. Chord length, in meters.\n",
    "4. Free-stream velocity, in meters per second.\n",
    "5. Suction side displacement thickness, in meters.\n",
    "'''\n",
    "\n",
    "names_cols = ['frequency', 'angle', 'length', 'velocity', 'displacement', 'pressure (output)']\n",
    "df = pd.read_csv('https://archive.ics.uci.edu/ml/machine-learning-databases/00291/airfoil_self_noise.dat',\n",
    "                header=None, delimiter='\\t', names=names_cols, na_values='?')\n",
    "\n",
    "df.head(5)"
   ]
  },
  {
   "cell_type": "markdown",
   "metadata": {},
   "source": [
    "okay looks good! let us try to understand the data. "
   ]
  },
  {
   "cell_type": "code",
   "execution_count": 93,
   "metadata": {
    "scrolled": true
   },
   "outputs": [
    {
     "name": "stdout",
     "output_type": "stream",
     "text": [
      "(1503, 6)\n",
      "0\n"
     ]
    }
   ],
   "source": [
    "##do the dimensions of loaded data match the data set description? \n",
    "print(df.shape)\n",
    "\n",
    "##are there missing values?\n",
    "print(df.isnull().sum())\n",
    "\n",
    "\n",
    "#yes, data matches\n",
    "#great, no missing values. we can proceed with our task"
   ]
  },
  {
   "cell_type": "code",
   "execution_count": 98,
   "metadata": {},
   "outputs": [
    {
     "data": {
      "image/png": "[encoded data removed]",
      "text/plain": [
       "<Figure size 432x288 with 1 Axes>"
      ]
     },
     "metadata": {
      "needs_background": "light"
     },
     "output_type": "display_data"
    }
   ],
   "source": [
    "#let us try to see the data -- very important to do this before you run ANY algorithm\n",
    "#this gives us some intuition about correlations/nature of data\n",
    "\n",
    "import matplotlib.pyplot as plt\n",
    "x = np.array(df['displacement'])\n",
    "y = np.array(df['pressure (output)'])\n",
    "z = np.array(df['velocity'])\n",
    "\n",
    "plt.plot(x, y, 'ro', x,z, 'g+')\n",
    "plt.grid()\n",
    "plt.xlabel('frequency')\n",
    "plt.ylabel('output')\n",
    "plt.show()"
   ]
  },
  {
   "cell_type": "code",
   "execution_count": 100,
   "metadata": {},
   "outputs": [
    {
     "name": "stdout",
     "output_type": "stream",
     "text": [
      "(1503, 6) <class 'numpy.ndarray'>\n",
      "(1503, 5) (1503,)\n"
     ]
    },
    {
     "data": {
      "text/plain": [
       "'\\na. make sure to use the correct slicing (based on how you write later part of code) !!\\nb. now all we need to do is run the older linear regression codes\\nc. since we have lot of data, better to run gradient descent. also lot of \"tricks\" can be conjured to \\n    improve performance (we will talk about it next time)\\n'"
      ]
     },
     "execution_count": 100,
     "metadata": {},
     "output_type": "execute_result"
    }
   ],
   "source": [
    "#converting dataframe to numpy array\n",
    "\n",
    "A = df.to_numpy()\n",
    "print(A.shape, type(A))\n",
    "\n",
    "#output (y) is the last column of A\n",
    "#the first 5 columns (features are the matrix X)\n",
    "\n",
    "X = A[:, 0: 5]\n",
    "Y = A[:, -1]\n",
    "print(X.shape, Y.shape)\n",
    "\n",
    "\"\"\"\n",
    "a. make sure to use the correct slicing (based on how you write later part of code) !!\n",
    "b. now all we need to do is run the older linear regression codes\n",
    "c. since we have lot of data, better to run gradient descent. also lot of \"tricks\" can be conjured to \n",
    "    improve performance (we will talk about it next time)\n",
    "\"\"\""
   ]
  },
  {
   "cell_type": "code",
   "execution_count": 3,
   "metadata": {},
   "outputs": [
    {
     "name": "stdout",
     "output_type": "stream",
     "text": [
      "30\n"
     ]
    }
   ],
   "source": [
    "def plus10(a=10):\n",
    "    b = a + 10\n",
    "    return b\n",
    "\n",
    "\n",
    "print(plus10(20))"
   ]
  }
 ],
 "metadata": {
  "kernelspec": {
   "display_name": "Python 3",
   "language": "python",
   "name": "python3"
  },
  "language_info": {
   "codemirror_mode": {
    "name": "ipython",
    "version": 3
   },
   "file_extension": ".py",
   "mimetype": "text/x-python",
   "name": "python",
   "nbconvert_exporter": "python",
   "pygments_lexer": "ipython3",
   "version": "3.6.9"
  }
 },
 "nbformat": 4,
 "nbformat_minor": 2
}
